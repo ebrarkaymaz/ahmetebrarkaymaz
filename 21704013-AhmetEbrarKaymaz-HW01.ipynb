{
 "cells": [
  {
   "cell_type": "code",
   "execution_count": 1,
   "metadata": {},
   "outputs": [
    {
     "name": "stdout",
     "output_type": "stream",
     "text": [
      " a Değeri girin: 2\n",
      " b Değeri girin: 5\n",
      " c Değeri girin: 2\n",
      "Delta: 9\n",
      "1.kök: -0.5\n",
      "2.kök: -2.0\n"
     ]
    }
   ],
   "source": [
    "a=int(input(\" a Değeri girin: \"))\n",
    "b=int(input(\" b Değeri girin: \"))\n",
    "c=int(input(\" c Değeri girin: \"))\n",
    "delta=b**2-4*a*c\n",
    "x1=(-b + delta ** 0.5)/(2*a) \n",
    "x2=(-b - delta ** 0.5)/(2*a)\n",
    "print(\"Delta:\",delta)\n",
    "print(\"1.kök:\",x1)\n",
    "print(\"2.kök:\",x2)"
   ]
  },
  {
   "cell_type": "code",
   "execution_count": null,
   "metadata": {},
   "outputs": [],
   "source": []
  }
 ],
 "metadata": {
  "kernelspec": {
   "display_name": "Python 3",
   "language": "python",
   "name": "python3"
  },
  "language_info": {
   "codemirror_mode": {
    "name": "ipython",
    "version": 3
   },
   "file_extension": ".py",
   "mimetype": "text/x-python",
   "name": "python",
   "nbconvert_exporter": "python",
   "pygments_lexer": "ipython3",
   "version": "3.6.5"
  }
 },
 "nbformat": 4,
 "nbformat_minor": 2
}
