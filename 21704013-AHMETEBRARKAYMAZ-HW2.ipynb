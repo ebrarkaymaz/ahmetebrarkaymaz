{
 "cells": [
  {
   "cell_type": "code",
   "execution_count": null,
   "metadata": {},
   "outputs": [],
   "source": [
    "x=int(input(\"1,2,3 sayılarından birini seçiniz:\"))\n",
    "if x==1:\n",
    "    print(\"bu kısımda üçgen hipotenüsü hesaplanacaktır\")\n",
    "    a=int(input(\"ilk kenarı giriniz\"))\n",
    "    b=int(input(\"ikinci kenarı giriniz\"))\n",
    "    hipotenüs=(a**2+b**2)**0.5\n",
    "    print(\"hipotenüz:\",hipotenüs)\n",
    "elif x==2:\n",
    "    print(\"bu kısımda girdiğiniz sayı 1den başlayıp ekranda göterilecektir\")\n",
    "    X=int(input(\"her hangi bir numara giriniz\"))\n",
    "    i=1\n",
    "    while(i<=X):\n",
    "        print(i)\n",
    "        i=i+1\n",
    "elif x==3:\n",
    "    print(\"bu kısımda girdiğiniz 6 sayının aritmetik ortalaması alınacaktır\")\n",
    "    A=int(input(\"1.rakamı giriniz\"))\n",
    "    B=int(input(\"2.rakamı giriniz\"))\n",
    "    C=int(input(\"3.rakamı giriniz\"))\n",
    "    D=int(input(\"4.rakamı giriniz\"))\n",
    "    E=int(input(\"5.rakamı giriniz\"))\n",
    "    F=int(input(\"6.rakamı giriniz\"))\n",
    "    ortalama=(A+B+C+D+E+F)/6\n",
    "    print(\"ortalama:\",ortalama)\n",
    "else:\n",
    "    print(\"ERROR!! lütfen 1,2,3 sayılarından birini giriniz\")\n",
    "        \n",
    "    \n",
    " "
   ]
  },
  {
   "cell_type": "code",
   "execution_count": null,
   "metadata": {},
   "outputs": [],
   "source": []
  }
 ],
 "metadata": {
  "kernelspec": {
   "display_name": "Python 3",
   "language": "python",
   "name": "python3"
  },
  "language_info": {
   "codemirror_mode": {
    "name": "ipython",
    "version": 3
   },
   "file_extension": ".py",
   "mimetype": "text/x-python",
   "name": "python",
   "nbconvert_exporter": "python",
   "pygments_lexer": "ipython3",
   "version": "3.6.5"
  }
 },
 "nbformat": 4,
 "nbformat_minor": 2
}
