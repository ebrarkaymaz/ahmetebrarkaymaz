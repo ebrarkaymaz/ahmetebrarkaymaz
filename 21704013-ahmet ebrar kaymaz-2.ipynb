{
 "cells": [
  {
   "cell_type": "code",
   "execution_count": 4,
   "metadata": {},
   "outputs": [
    {
     "name": "stdout",
     "output_type": "stream",
     "text": [
      "1,2,3 sayılarından birini seçiniz:3\n",
      "bu kısımda girdiğiniz 6 sayının aritmetik ortalaması alınacaktır\n",
      "1.rakamı giriniz5\n",
      "2.rakamı giriniz5\n",
      "3.rakamı giriniz5\n",
      "4.rakamı giriniz5\n",
      "5.rakamı giriniz5\n",
      "6.rakamı giriniz5\n",
      "ortalama: 5.0\n"
     ]
    }
   ],
   "source": [
    "x=float(input(\"1,2,3 sayılarından birini seçiniz:\"))\n",
    "\n",
    "if x==1:\n",
    "\n",
    "    print(\"bu kısımda üçgen hipotenüsü hesaplanacaktır\")\n",
    "\n",
    "    a=float(input(\"ilk kenarı giriniz\"))\n",
    "\n",
    "    b=float(input(\"ikinci kenarı giriniz\"))\n",
    "\n",
    "    hipotenüs=(a**2+b**2)**0.5\n",
    "\n",
    "    print(\"hipotenüs:\",hipotenüs)\n",
    "\n",
    "elif x==2:\n",
    "\n",
    "    print(\"bu kısımda girdiğiniz sayı 1den başlayıp ekranda göterilecektir\")\n",
    "\n",
    "    X=float(input(\"her hangi bir sayı giriniz\"))\n",
    "\n",
    "    i=1\n",
    "\n",
    "    while(i<=X):\n",
    "\n",
    "        print(i)\n",
    "\n",
    "        i=i+1\n",
    "\n",
    "elif x==3:\n",
    "\n",
    "    print(\"bu kısımda girdiğiniz 6 sayının aritmetik ortalaması alınacaktır\")\n",
    "\n",
    "    A=float(input(\"1.rakamı giriniz\"))\n",
    "\n",
    "    B=float(input(\"2.rakamı giriniz\"))\n",
    "\n",
    "    C=float(input(\"3.rakamı giriniz\"))\n",
    "\n",
    "    D=float(input(\"4.rakamı giriniz\"))\n",
    "\n",
    "    E=float(input(\"5.rakamı giriniz\"))\n",
    "\n",
    "    F=float(input(\"6.rakamı giriniz\"))\n",
    "\n",
    "    ortalama=(A+B+C+D+E+F)/6\n",
    "\n",
    "    print(\"ortalama:\",ortalama)\n",
    "\n",
    "else:\n",
    "\n",
    "    print(\"ERROR!!! lütfen programı tekrar başlatıp 1,2,3 rakamlarından birini giriniz\")"
   ]
  },
  {
   "cell_type": "code",
   "execution_count": null,
   "metadata": {},
   "outputs": [],
   "source": []
  }
 ],
 "metadata": {
  "kernelspec": {
   "display_name": "Python 3",
   "language": "python",
   "name": "python3"
  },
  "language_info": {
   "codemirror_mode": {
    "name": "ipython",
    "version": 3
   },
   "file_extension": ".py",
   "mimetype": "text/x-python",
   "name": "python",
   "nbconvert_exporter": "python",
   "pygments_lexer": "ipython3",
   "version": "3.7.0"
  }
 },
 "nbformat": 4,
 "nbformat_minor": 2
}
